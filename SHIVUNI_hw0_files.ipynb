{
 "cells": [
  {
   "cell_type": "markdown",
   "id": "bd15272a",
   "metadata": {},
   "source": [
    "# HW0 Answers of Podcast\n",
    "\n",
    "<ol>\n",
    "  <li>i) Jupyter Notebook is great for switching between languages.\n",
    "ii) The notebook itself has tags for the languages ​​it contains. Most of it, about 96%, is written in Python.\n",
    "\n",
    "iii) They have a different suffix of pynb, but under the hood they are just JSON files. Jupyter is called Jupyter because it combines Julia, Python, and R.</li>\n",
    "  <li>It's good to have information about research. Jupyter Notebooks can have different languages. I agree to this by using the HTML language in my Markdown files.\n",
    "</li>\n",
    "  <li>Yes After hearing, I am more interested in learning different methods of this data mining.\n",
    "Please let me know if you need more information from my side.\n",
    "</li>\n",
    "  \n",
    "</ol>"
   ]
  },
  {
   "cell_type": "code",
   "execution_count": null,
   "id": "4a0fcfc6",
   "metadata": {},
   "outputs": [],
   "source": []
  },
  {
   "cell_type": "code",
   "execution_count": null,
   "id": "97e23f61",
   "metadata": {},
   "outputs": [],
   "source": []
  }
 ],
 "metadata": {
  "kernelspec": {
   "display_name": "Python 3 (ipykernel)",
   "language": "python",
   "name": "python3"
  },
  "language_info": {
   "codemirror_mode": {
    "name": "ipython",
    "version": 3
   },
   "file_extension": ".py",
   "mimetype": "text/x-python",
   "name": "python",
   "nbconvert_exporter": "python",
   "pygments_lexer": "ipython3",
   "version": "3.9.12"
  }
 },
 "nbformat": 4,
 "nbformat_minor": 5
}
